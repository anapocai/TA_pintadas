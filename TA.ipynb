{
 "cells": [
  {
   "cell_type": "markdown",
   "metadata": {},
   "source": [
    "TA-Pintade <br/>\n",
    "Ana Maria Renno Pocai <br/>\n",
    "Xinyi WANG"
   ]
  },
  {
   "cell_type": "markdown",
   "metadata": {},
   "source": [
    "<font color = blue>\n",
    "Objectif de ce travail:\n",
    "</font>\n",
    "\n",
    "Selon le vidéo proposé sur pintade, nous avons cherché les informations et modelisé le problème (comment gagner le plus de profit par le couple de pintade).\n"
   ]
  },
  {
   "cell_type": "markdown",
   "metadata": {},
   "source": [
    "<font color = blue>\n",
    "Modélisation du problème: <br/>\n",
    "</font>\n",
    "\n",
    "\n",
    "<font color = green>\n",
    "Partie 1: Calculer les nombre des pintades maintenant <br/>\n",
    "</font>\n",
    "\n",
    "Ces deux monsieurs ont un couple de pintades (il y a 2 ans). \n",
    "\n",
    "Les 6 premiers mois, les pintades ne produisent rien (Suppose que c’est dans l’automne et l’hiver). \n",
    "On suppose que le côut par pintade par mois est 5 euros.\n",
    "\n",
    "Au septième mois, la pintade femelle commence à produire des œufs(Pendant 6 mois chaque année, au printemps et en été).\n",
    "\n",
    "Elle arrête de produire des œufs jusqu'à  à l'âge d'un an et demi. Une pintade peut produire entre 50 et 80 œufs par an. \n",
    "\n",
    "Étant donné que les deux messieurs n'ont rien fait avec le couple, comme cela a été dit dans la vidéo, les pintades se reproduisent frénétiquement. Pour cet exercice, nous allons considérer qu'elles produisent 50 œufs par an, en tenant compte des facteurs externes qui pourraient diminuer le nombre de pintades.\n",
    "\n",
    "La taux d'éclosion des pintades est d'environ 80 %.\n",
    "\n",
    "En tenant compte de ces informations, nous pouvons estimer la quantité de pintades après 2 ans."
   ]
  },
  {
   "cell_type": "code",
   "execution_count": 63,
   "metadata": {},
   "outputs": [
    {
     "name": "stdout",
     "output_type": "stream",
     "text": [
      "Coût de l'élevage d'une pintade par mois:  5 €\n"
     ]
    }
   ],
   "source": [
    "oeuf_ans = 50\n",
    "eclosion = 0.8\n",
    "femmes = 1/2\n",
    "cout_pintada = 5 \n",
    "print(\"Coût de l'élevage d'une pintade par mois: \", cout_pintada, \"€\")"
   ]
  },
  {
   "cell_type": "markdown",
   "metadata": {},
   "source": [
    "#### Première année: \n",
    "\n",
    "En considérant que la pintade ne se reproduit que pendant 6 mois de l'année et qu'elle met 1 mois à éclore, faisons une moyenne, en supposant qu'il naîtra 8 nouvelles pintades chaque mois après le premier mois d'incubation, afin de calculer le coût des pintades pendant cette période.\n",
    "\n",
    "Pour faciliter le calcul, considérons le cas idéal où l'agriculteur a acheté les pintades 6 mois avant leur période de reproduction. Donc, au cours des 7 premiers mois, nous n'aurons que le coût de 2 pintades."
   ]
  },
  {
   "cell_type": "code",
   "execution_count": 64,
   "metadata": {},
   "outputs": [
    {
     "name": "stdout",
     "output_type": "stream",
     "text": [
      "Nombre de pintades:  42\n",
      "Nombre de femelles:  21\n",
      "Coût des pintades:  720 €\n"
     ]
    }
   ],
   "source": [
    "pintadas_1 = int(oeuf_ans*eclosion) + 2\n",
    "pintadas_femmes_1 = int(pintadas_1*femmes) \n",
    "p = 2 \n",
    "cout_pintadas_1 = p*5*7 \n",
    "for i in range(5):\n",
    "    p += 8\n",
    "    cout_pintadas_1 += p*5\n",
    "print(\"Nombre de pintades: \", pintadas_1)\n",
    "print(\"Nombre de femelles: \", pintadas_femmes_1)\n",
    "print(\"Coût des pintades: \", cout_pintadas_1, \"€\")"
   ]
  },
  {
   "cell_type": "markdown",
   "metadata": {},
   "source": [
    "#### Deuxième année:"
   ]
  },
  {
   "cell_type": "code",
   "execution_count": 65,
   "metadata": {},
   "outputs": [
    {
     "name": "stdout",
     "output_type": "stream",
     "text": [
      "Nombre de pintades:  882\n",
      "Nombre de femelles:  441\n",
      "Coût des pintades:  15120 €\n"
     ]
    }
   ],
   "source": [
    "p = pintadas_1\n",
    "cout_pintadas_2 = p*5*7 \n",
    "for i in range(5):\n",
    "    p += 8*pintadas_femmes_1\n",
    "    cout_pintadas_2 += p*5\n",
    "pintadas_2 = int(pintadas_femmes_1*oeuf_ans*eclosion) + pintadas_1\n",
    "pintadas_femmes_2 = int(pintadas_2*femmes)\n",
    "print(\"Nombre de pintades: \", pintadas_2)\n",
    "print(\"Nombre de femelles: \", pintadas_femmes_2)\n",
    "print(\"Coût des pintades: \", cout_pintadas_2, \"€\")"
   ]
  },
  {
   "cell_type": "markdown",
   "metadata": {},
   "source": [
    "<font color = green>\n",
    "Partie 2: Coût d'incubation <br/>\n",
    "</font>\n",
    "\n",
    "\n",
    " L'incubation est faite artificiellement\n",
    "Si l'incubation est faite artificiellement, la pintade peut continuer à pondre des œufs. Dans ce cas, on peut estimer qu’une pintade produit 192-240 œufs (pintades). Mais il y a le coût de l’incubation artificielle(2 euros par pintade: 384 - 480 euros)."
   ]
  },
  {
   "cell_type": "code",
   "execution_count": 66,
   "metadata": {},
   "outputs": [
    {
     "name": "stdout",
     "output_type": "stream",
     "text": [
      "Coût de incubation par une mère pintada:  384 €\n"
     ]
    }
   ],
   "source": [
    "cout_incubation = 2*192 # Une pintade.\n",
    "print(\"Coût de incubation par une mère pintada: \",cout_incubation, \"€\"  )"
   ]
  },
  {
   "cell_type": "markdown",
   "metadata": {},
   "source": [
    "<font color = green>\n",
    "Partie 3: Prix <br/> \n",
    "</font>\n",
    "\n",
    "#### Prix de vente des œufs de pintade: \n",
    "\n",
    "Le prix de vente de chaque œuf de pintade est basé sur le fait que 6 œufs se vendent pour 7 euros. \n",
    "\n",
    "Cela signifie que le prix par œuf est d'environ :\n",
    "\n",
    "$$\n",
    "\\text{Prix par œuf} = \\frac{7 \\text{ euros}}{6 \\text{ œufs}} \\approx 1,17 \\text{ euros}\n",
    "$$\n",
    "\n",
    "#### Calcul du Coût de Production d'une Boîte d'Oeufs\n",
    "\n",
    "Pour déterminer le coût de production d'une boîte d'œufs (qui contient 6 œufs), nous avons pris en compte le coût de production individuel de chaque œuf. Voici comment nous avons calculé cela :\n",
    "\n",
    "1. **Coût de production par œuf** : Nous avons mentionné que le coût de production d'un œuf est de **0,3 euros**.\n",
    "\n",
    "2. **Coût total par boîte d'œufs** : Pour calculer le coût total d'une boîte d'œufs, nous multiplions le coût par œuf par le nombre d'œufs dans la boîte.\n",
    "\n",
    "$$\n",
    "\\text{Coût par boîte de 6 œufs} = \\text{Coût par œuf} \\times 6\n",
    "$$\n",
    "\n",
    "En remplaçant les valeurs :\n",
    "\n",
    "$$\n",
    "\\text{Coût par boîte de 6 œufs} = 0,3 \\, \\text{€} \\times 6 \\approx 1,8 \\, \\text{€}\n",
    "$$\n",
    "\n",
    "##### Résultat Final\n",
    "\n",
    "Ainsi, le coût de production pour une boîte d'œufs (avec 6 œufs) serait **environ 1,80 euros**.\n",
    "\n",
    "#### Calcul du Prix de Vente de la Viande de Pintade\n",
    "\n",
    "Pour déterminer le prix de vente de la viande de pintade que nous allons proposer, voici les étapes que nous avons suivies :\n",
    "\n",
    "##### 1. Déterminer le poids de la viande après l'abattage\n",
    "\n",
    "La pintade entière a un poids moyen d'environ 1,65 kg. Après l'abattage, nous pouvons obtenir environ 70 % du poids total en viande, en tenant compte des viscères et d'autres parties non comestibles.\n",
    "\n",
    "$$\n",
    "\\text{Poids de la viande} = \\text{Poids total} \\times 0,70 = 1,65 \\, \\text{kg} \\times 0,70 \\approx 1,155 \\, \\text{kg}\n",
    "$$\n",
    "\n",
    "##### 2. Prix par kilogramme de viande\n",
    "\n",
    "Si le prix de vente au consommateur final est de 14,00 €/kg pour la pintade entière, nous supposons que le prix par kilogramme de viande est dans la même gamme.\n",
    "\n",
    "##### 3. Calcul du prix de vente de la viande\n",
    "\n",
    "Le prix de vente de la viande serait alors :\n",
    "\n",
    "$$\n",
    "\\text{Prix de vente de la viande} = \\text{Prix par kg} \\times \\text{Poids de la viande}\n",
    "$$\n",
    "\n",
    "En remplaçant :\n",
    "\n",
    "$$\n",
    "\\text{Prix de vente de la viande} = 14,00 \\, \\text{€/kg} \\times 1,155 \\, \\text{kg} \\approx 16,17 \\, \\text{€}\n",
    "$$\n",
    "\n",
    "##### Résumé\n",
    "\n",
    "Par conséquent, nous pourrions vendre la viande de pintade pour environ **16,17 euros**.\n",
    "\n",
    "#### Abattage de la Pintade\n",
    "\n",
    "Nous avons décidé d'abattre la pintade que nous avons élevée. Pour cela, voici le coût que nous devons considérer :\n",
    "\n",
    "1. **Coût de l'abattage** :  \n",
    "   Le coût de l'abattage par pintade est d'environ **5,00 €**.\n",
    "\n",
    "##### Conclusion\n",
    "\n",
    "Ainsi, le coût total pour abattre une pintade serait d'environ **5,00 euros**.\n"
   ]
  },
  {
   "cell_type": "code",
   "execution_count": 67,
   "metadata": {},
   "outputs": [
    {
     "name": "stdout",
     "output_type": "stream",
     "text": [
      "Vente d'une boîte de 6 œufs:  7 €\n",
      "Vente de viande de pintade:  16.17 €\n",
      "Coût de production d'une boîte de 6 œufs:  1.8 €\n",
      "Coût de l'abattage de la pintade:  5 €\n"
     ]
    }
   ],
   "source": [
    "cf_oeuf = 1.17 \n",
    "cf_boite_oeuf = 7\n",
    "cout_boite_oeuf = 1.8\n",
    "cf_pintada = 16.17\n",
    "cout_abattage_pintade = 5\n",
    "print(\"Vente d'une boîte de 6 œufs: \", cf_boite_oeuf, \"€\")\n",
    "print(\"Vente de viande de pintade: \", cf_pintada, \"€\")\n",
    "print(\"Coût de production d'une boîte de 6 œufs: \", cout_boite_oeuf, \"€\")\n",
    "print(\"Coût de l'abattage de la pintade: \", cout_abattage_pintade, \"€\")"
   ]
  },
  {
   "cell_type": "markdown",
   "metadata": {},
   "source": [
    "<font color = green>\n",
    "Partie 4 : Coût du transport <br/> \n",
    "</font>\n",
    "\n",
    "#### 1. Coûts d'acquisition des véhicules\n",
    "Il faut inclure le coût d'achat initial de chaque type de véhicule :\n",
    "\n",
    "**Camionnette** : entre 25 000 € et 45 000\n",
    "\n",
    "**Fourgonnette** : entre 30 000 € et 50 000*\n",
    "\n",
    "**Estafette** : entre 25 000 € et 45 000\n"
   ]
  },
  {
   "cell_type": "code",
   "execution_count": 68,
   "metadata": {},
   "outputs": [
    {
     "name": "stdout",
     "output_type": "stream",
     "text": [
      "Prix Moyen d'une Camionnette:  35000 €\n",
      "Prix Moyen d'une Fourgonnette:  40000 €\n",
      "Prix Moyen d'une Estafette:  35000 €\n"
     ]
    }
   ],
   "source": [
    "prix_camionnette = int((25000 + 45000)/2)\n",
    "prix_fourgonnette = int((30000 + 50000)/2)\n",
    "prix_estafette = int((25000 + 45000)/2)\n",
    "print(\"Prix Moyen d'une Camionnette: \", prix_camionnette, \"€\")\n",
    "print(\"Prix Moyen d'une Fourgonnette: \", prix_fourgonnette, \"€\")\n",
    "print(\"Prix Moyen d'une Estafette: \", prix_estafette, \"€\")"
   ]
  },
  {
   "cell_type": "markdown",
   "metadata": {},
   "source": [
    "#### 2. Coûts d'exploitation\n",
    "Pour chaque véhicule, nous calculons les frais de fonctionnement mensuels :\n",
    "\n",
    "##### Assurance\n",
    "\n",
    "**Camionnette :** Assurance annuelle : 600 € à 1 200 € \n",
    "\n",
    "**Fourgonnette :** Assurance annuelle : 800 € à 1 500 €. \n",
    "\n",
    "**Estafette :** Assurance annuelle : 1 000 € à 1 800 €. "
   ]
  },
  {
   "cell_type": "code",
   "execution_count": 69,
   "metadata": {},
   "outputs": [
    {
     "name": "stdout",
     "output_type": "stream",
     "text": [
      " Assurance anunuelle pour la Camionnette:  900 €\n",
      " Assurance anunuelle pour la Fourgonnette:  1150 €\n",
      " Assurance anunuelle pour la Estafette:  1400 €\n"
     ]
    }
   ],
   "source": [
    "assurance_c = int((600 + 1200)/2)\n",
    "assurance_f = int((800 + 1500)/2)\n",
    "assurance_e = int((1000 + 1800)/2)\n",
    "print(\" Assurance anunuelle pour la Camionnette: \", assurance_c, \"€\")\n",
    "print(\" Assurance anunuelle pour la Fourgonnette: \", assurance_f, \"€\")\n",
    "print(\" Assurance anunuelle pour la Estafette: \", assurance_e, \"€\")"
   ]
  },
  {
   "cell_type": "markdown",
   "metadata": {},
   "source": [
    "##### Entretien\n",
    "\n",
    "**Camionnette :** Coût d'entretien annuel moyen : 500 € à 1 000 €.\n",
    "\n",
    "**Fourgonnette :** Coût d'entretien annuel moyen : 800 € à 1 500 €.\n",
    "\n",
    "**Estafette :** Coût d'entretien annuel moyen : 1 200 à 2 000 euros."
   ]
  },
  {
   "cell_type": "code",
   "execution_count": 70,
   "metadata": {},
   "outputs": [
    {
     "name": "stdout",
     "output_type": "stream",
     "text": [
      " Entretien anunuelle pour la Camionnette:  750 €\n",
      " Entretien anunuelle pour la Fourgonnette:  1150 €\n",
      " Entretien anunuelle pour la Estafette:  1600 €\n"
     ]
    }
   ],
   "source": [
    "entretien_c = int((500 + 1000)/2)\n",
    "entretien_f = int((800 + 1500)/2)\n",
    "entretien_e = int((1200 + 2000)/2)\n",
    "print(\" Entretien anunuelle pour la Camionnette: \", entretien_c, \"€\")\n",
    "print(\" Entretien anunuelle pour la Fourgonnette: \", entretien_f, \"€\")\n",
    "print(\" Entretien anunuelle pour la Estafette: \", entretien_e, \"€\")"
   ]
  },
  {
   "cell_type": "markdown",
   "metadata": {},
   "source": [
    "#### 3. Capacité de Transport : Viande et Œufs de Pintade\n",
    "\n",
    "Pour estimer la capacité de transport en termes de viande et d'œufs de pintade, nous avons pris en compte les éléments suivants :\n",
    "\n",
    "**Poids moyen de la viande de pintade** : 1,155 kg (prête à la vente).\n",
    "\n",
    "**Poids d'une caisse d'œufs** : environ 0,250 kg pour 6 œufs.\n",
    "\n",
    "La capacité de transport des véhicules en termes de volume et de poids est la suivante :\n",
    "\n",
    "**Camionnette** : Capacité de 3 à 4m³, ce qui correspond à une charge d'environ 500 kg à 800 kg.\n",
    "\n",
    "**Fourgonnette** : Capacité de 5 à 6m³, correspondant à une charge de 800 kg à 1.200 kg.\n",
    "\n",
    "**Estafette** : Capacité de 7 à 9m³, permettant de transporter jusqu'à 1.500 kg de charge.\n",
    "\n"
   ]
  },
  {
   "cell_type": "code",
   "execution_count": 71,
   "metadata": {},
   "outputs": [
    {
     "name": "stdout",
     "output_type": "stream",
     "text": [
      " Capacité de la Camionnette:  650 kg\n",
      " Capacité de la Fourgonnette:  1000 kg\n",
      " Capacité de la Estafette:  1500 kg\n"
     ]
    }
   ],
   "source": [
    "capacite_c = int((500 + 800)/2)\n",
    "capacite_f = int((800 + 1200)/2)\n",
    "capacite_e = 1500\n",
    "print(\" Capacité de la Camionnette: \", capacite_c , \"kg\")\n",
    "print(\" Capacité de la Fourgonnette: \", capacite_f, \"kg\")\n",
    "print(\" Capacité de la Estafette: \", capacite_e, \"kg\")"
   ]
  },
  {
   "cell_type": "code",
   "execution_count": 72,
   "metadata": {},
   "outputs": [
    {
     "name": "stdout",
     "output_type": "stream",
     "text": [
      " Capacité de la Camionnette:  418 pintades ou  2600 boîte d'œufs\n",
      " Capacité de la Fourgonnette:  643 pintades ou  4000 boîte d'œufs\n",
      " Capacité de la Estafette:  964 pintades ou  6000 boîte d'œufs\n"
     ]
    }
   ],
   "source": [
    "poid_pintada = 1\n",
    "capacite_viande_c = int(capacite_c/1.555)\n",
    "capacite_boite_oeufs_c = int(capacite_c/0.250)\n",
    "capacite_viande_f = int(capacite_f/1.555)\n",
    "capacite_boite_oeufs_f = int(capacite_f/0.250)\n",
    "capacite_viande_e = int(capacite_e/1.555)\n",
    "capacite_boite_oeufs_e = int(capacite_e/0.250)\n",
    "print(\" Capacité de la Camionnette: \", capacite_viande_c , \"pintades ou \", capacite_boite_oeufs_c, \"boîte d'œufs\")\n",
    "print(\" Capacité de la Fourgonnette: \", capacite_viande_f , \"pintades ou \", capacite_boite_oeufs_f, \"boîte d'œufs\")\n",
    "print(\" Capacité de la Estafette: \", capacite_viande_e , \"pintades ou \", capacite_boite_oeufs_e, \"boîte d'œufs\")\n"
   ]
  },
  {
   "cell_type": "markdown",
   "metadata": {},
   "source": [
    "#### 4. Distance et Calcul de l'Essence\n",
    "\n",
    "Nous avons estimé que la ferme se trouve à environ 50 km du port de Marseille, ce qui implique un aller-retour de 100 km.\n",
    "\n",
    "Le calcul du coût de l'essence dépend du type de véhicule utilisé. Nous avons pris en compte les données suivantes :\n",
    "\n",
    "**Prix de l'essence à Marseille** : environ 1,90€/litre.\n",
    "\n",
    "##### Consommation moyenne :\n",
    "\n",
    "**Camionnette** : environ 8-10 km/litre.\n",
    "\n",
    "**Fourgonnette** : environ 6-8 km/litre.\n",
    "\n",
    "**Estafette** : environ 5-6 km/litre.\n",
    "\n",
    "En fonction de la consommation moyenne et de la distance à parcourir (100 km aller-retour), voici le coût de l'essence pour chaque véhicule :"
   ]
  },
  {
   "cell_type": "code",
   "execution_count": 73,
   "metadata": {},
   "outputs": [
    {
     "name": "stdout",
     "output_type": "stream",
     "text": [
      "Prix d'un trajet de 100 km:\n",
      "Camionnette:  21.11111111111111 €\n",
      "Fourgonnette:  27.142857142857142 €\n",
      "Estafette:  34.54545454545455 €\n"
     ]
    }
   ],
   "source": [
    "prix_essence = 1.9 \n",
    "essence_c = (100/((8 + 10)/2))*prix_essence\n",
    "essence_f = (100/((6 + 8)/2))*prix_essence\n",
    "essence_e = (100/((5 + 6)/2))*prix_essence\n",
    "print(\"Prix d'un trajet de 100 km:\")\n",
    "print(\"Camionnette: \", essence_c, \"€\")\n",
    "print(\"Fourgonnette: \", essence_f, \"€\")\n",
    "print(\"Estafette: \", essence_e, \"€\")\n"
   ]
  },
  {
   "cell_type": "markdown",
   "metadata": {},
   "source": [
    "<font color = green>\n",
    "Partie 5 : Coûts de Maintenance de la Ferme à Marseille <br/> \n",
    "</font>\n",
    "\n",
    "**1. Impôts et Taxes**\n",
    "\n",
    "Impôt Foncier (Taxe Foncière) :\n",
    "\n",
    "Pour les propriétés rurales à Marseille, l'impôt peut varier. Une estimation raisonnable serait de 500€ à 1.200€ par an.\n",
    "\n",
    "**2. Assurance de la Propriété**\n",
    "\n",
    "Assurance Habitation et Propriété Rurale :\n",
    "\n",
    "L'assurance dans la région peut varier, mais une moyenne raisonnable serait de 400€ à 800€ par an.\n",
    "\n",
    "**3. Entretien de la Propriété**\n",
    "\n",
    "Entretien des Bâtiments et Clôtures :\n",
    "\n",
    "Les coûts d'entretien peuvent se situer entre 150€ et 350€ par mois à Marseille, en raison du climat et de la nécessité d'un entretien régulier.\n",
    "\n",
    "Eau et Électricité :\n",
    "\n",
    "En fonction de l'utilisation, les coûts des services publics peuvent être de 80€ à 200€ par mois.\n",
    "\n",
    "\n",
    "**4. Autres Coûts**\n",
    "\n",
    "Dépenses Générales et Imprévus :\n",
    "\n",
    "Un montant raisonnable pour les dépenses inattendues peut être de 100€ à 200€ par mois."
   ]
  },
  {
   "cell_type": "code",
   "execution_count": 74,
   "metadata": {},
   "outputs": [
    {
     "name": "stdout",
     "output_type": "stream",
     "text": [
      "Coût annuel de maintien de la ferme:  7930 €\n"
     ]
    }
   ],
   "source": [
    "impot = int((500 + 1200)/2)\n",
    "assurance = int((400+800)/2)\n",
    "entretien = int((150+350)/2)*12\n",
    "eau_electricite = int((80+200)/2)*12\n",
    "autres_couts = int((100+200)/2)*12\n",
    "cout_an = impot + assurance + entretien + eau_electricite + autres_couts\n",
    "print(\"Coût annuel de maintien de la ferme: \", cout_an, \"€\")"
   ]
  },
  {
   "cell_type": "markdown",
   "metadata": {},
   "source": [
    "<font color = blue>\n",
    "Résolution du problème <br/>\n",
    "</font>\n",
    "\n",
    "\n",
    "<font color = green>\n",
    "Partie 1:  <br/>\n",
    "</font>\n",
    "\n",
    "\n",
    "Après 2 ans, nous avons 882 pintades, la ferme a une capacité maximale de 900 pintades et nous considérons dans notre année que les 6 premiers mois les pintades ne sont pas en période de reproduction, sur cette base le profit des 6 premiers mois sera basé uniquement sur la vente de viande, en plus de ce facteur nous devons considérer que nous avons besoin de 3 femelles pour 1 mâle pour la reproduction. \n"
   ]
  },
  {
   "cell_type": "code",
   "execution_count": 75,
   "metadata": {},
   "outputs": [],
   "source": [
    "femmes_machos = 3/4"
   ]
  },
  {
   "cell_type": "markdown",
   "metadata": {},
   "source": [
    "Six premiers mois: Sachant que nous allons vendre les anciennes pintades et que nous avons beaucoup de mâles."
   ]
  },
  {
   "cell_type": "code",
   "execution_count": 76,
   "metadata": {},
   "outputs": [
    {
     "name": "stdout",
     "output_type": "stream",
     "text": [
      "Nombre minimum de pintadas que nous pouvons vendre:  257 pintades\n",
      "Coût de l'abattage de ces pintades:  1285 €\n",
      "Le produit de la vente de pintades:  4155.6900000000005 €\n"
     ]
    }
   ],
   "source": [
    "vendre_p11 = int(pintadas_1 + (pintadas_2 - pintadas_femmes_1)*(1 - femmes_machos))\n",
    "print(\"Nombre minimum de pintadas que nous pouvons vendre: \", vendre_p11, \"pintades\")\n",
    "cout_vp11 = cout_abattage_pintade*vendre_p11\n",
    "print(\"Coût de l'abattage de ces pintades: \", cout_vp11, \"€\")\n",
    "cf_vp11 = cf_pintada*vendre_p11\n",
    "print(\"Le produit de la vente de pintades: \", cf_vp11, \"€\")\n"
   ]
  },
  {
   "cell_type": "markdown",
   "metadata": {},
   "source": [
    "Comme tous les moyens de transport supportent au moins 400 pintades, nous allons toutes les vendre d'un coup pour minimiser les coûts de transport."
   ]
  },
  {
   "cell_type": "code",
   "execution_count": 77,
   "metadata": {},
   "outputs": [
    {
     "name": "stdout",
     "output_type": "stream",
     "text": [
      "Le profit pour la: \n",
      "Camionnette : 2849.578888888889 €\n",
      "Fourgonnette : 2843.5471428571436 €\n",
      "Estafette : 2836.144545454546 €\n"
     ]
    }
   ],
   "source": [
    "cout_vp11_c = cout_vp11 + essence_c \n",
    "cout_vp11_f = cout_vp11 + essence_f\n",
    "cout_vp11_e = cout_vp11 + essence_e\n",
    "profit_vp11_c = cf_vp11 - cout_vp11_c\n",
    "profit_vp11_f = cf_vp11 - cout_vp11_f\n",
    "profit_vp11_e = cf_vp11 - cout_vp11_e\n",
    "print(\"Le profit pour la: \")\n",
    "print(\"Camionnette :\", profit_vp11_c, \"€\")\n",
    "print(\"Fourgonnette :\", profit_vp11_f, \"€\")\n",
    "print(\"Estafette :\", profit_vp11_e, \"€\")\n"
   ]
  },
  {
   "cell_type": "markdown",
   "metadata": {},
   "source": [
    "Après, il reste 469 femelles et 156 males.(625 en totale)\n",
    "\n",
    "En considerant que le pintades ne produisent rien avant 6 mois, donc pendant la période de couvaison de la troisième année, que ces 469 femelles produisent œufs.Il n'y a aucun sens à incuber des œufs dès le début.\n",
    "\n",
    "Selon le demande de marché, il faut aller au vieux-port pour vendre les œufs chaque mois.(Il faut vendre les œufs frais.)\n",
    "\n",
    "Selon le modélisation préceédent, une pintade peut produire 10 œufs chaque mois"
   ]
  },
  {
   "cell_type": "code",
   "execution_count": 78,
   "metadata": {},
   "outputs": [
    {
     "name": "stdout",
     "output_type": "stream",
     "text": [
      "Le nombre maximum de oeufs produit chaqun mois: 4680 oeufs\n",
      "Nombre de boîte de oeufs 780 boîtes\n"
     ]
    }
   ],
   "source": [
    "pintades_3 = pintadas_2 - vendre_p11\n",
    "pintade_femme_3 = int(femmes_machos*pintades_3)\n",
    "egg_chaque_mois = int(pintade_femme_3*10)\n",
    "boite_chaque_mois1 = int(egg_chaque_mois/6)\n",
    "print(\"Le nombre maximum de oeufs produit chaqun mois:\", egg_chaque_mois, \"oeufs\")\n",
    "print(\"Nombre de boîte de oeufs\",boite_chaque_mois1, \"boîtes\" )"
   ]
  },
  {
   "cell_type": "markdown",
   "metadata": {},
   "source": [
    "Pour réduire les coûts liés à l'entretien des pintades à la ferme, nous allons vendre tous les œufs pendant les cinq premiers mois et en garder quelques-uns le dernier mois, afin d'avoir de nouvelles pintades pour l'année prochaine."
   ]
  },
  {
   "cell_type": "code",
   "execution_count": 79,
   "metadata": {},
   "outputs": [
    {
     "name": "stdout",
     "output_type": "stream",
     "text": [
      "Le profit pour la: \n",
      "Camionnette : 4034.8888888888887 €\n",
      "Fourgonnette : 4028.857142857143 €\n",
      "Estafette : 4021.454545454545 €\n"
     ]
    }
   ],
   "source": [
    "vendre_o11 = cf_boite_oeuf*boite_chaque_mois1\n",
    "profit_vo11_c = vendre_o11 - essence_c - boite_chaque_mois1*cout_boite_oeuf\n",
    "profit_vo11_f = vendre_o11 - essence_f - boite_chaque_mois1*cout_boite_oeuf\n",
    "profit_vo11_e = vendre_o11 - essence_e - boite_chaque_mois1*cout_boite_oeuf\n",
    "print(\"Le profit pour la: \")\n",
    "print(\"Camionnette :\", profit_vo11_c, \"€\")\n",
    "print(\"Fourgonnette :\", profit_vo11_f, \"€\")\n",
    "print(\"Estafette :\", profit_vo11_e, \"€\")"
   ]
  },
  {
   "cell_type": "markdown",
   "metadata": {},
   "source": [
    "Après six mois, nous devons garder au moins 675 femelles pour l'année prochaine et 225 mâles. Pour cela, nous devrons conserver un minimum de 1 688 œufs afin de garantir le nombre de femelles."
   ]
  },
  {
   "cell_type": "code",
   "execution_count": 80,
   "metadata": {},
   "outputs": [
    {
     "name": "stdout",
     "output_type": "stream",
     "text": [
      "Le profit pour la: \n",
      "Camionnette : 2568.4888888888886 €\n",
      "Fourgonnette : 2562.4571428571426 €\n",
      "Estafette : 2555.0545454545454 €\n"
     ]
    }
   ],
   "source": [
    "vendre_o12 = int((egg_chaque_mois - 1692)/6)*(cf_boite_oeuf - cout_boite_oeuf)\n",
    "profit_vo12_c = vendre_o12 - essence_c\n",
    "profit_vo12_f = vendre_o12 - essence_f\n",
    "profit_vo12_e = vendre_o12 - essence_e\n",
    "print(\"Le profit pour la: \")\n",
    "print(\"Camionnette :\", profit_vo12_c, \"€\")\n",
    "print(\"Fourgonnette :\", profit_vo12_f, \"€\")\n",
    "print(\"Estafette :\", profit_vo12_e, \"€\")"
   ]
  },
  {
   "cell_type": "markdown",
   "metadata": {},
   "source": [
    "Avec cela, le profit attendu pour la troisième année, sans l'incubation, serait de: "
   ]
  },
  {
   "cell_type": "code",
   "execution_count": 81,
   "metadata": {},
   "outputs": [
    {
     "name": "stdout",
     "output_type": "stream",
     "text": [
      "Le profit pour la: \n",
      "Camionnette : 16012.512222222223 €\n",
      "Fourgonnette : 15320.290000000005 €\n",
      "Estafette : 14620.290000000005 €\n"
     ]
    }
   ],
   "source": [
    "profit3_c = profit_vp11_c + profit_vo11_c*5 + profit_vo12_c - cout_an - assurance_c - entretien_c\n",
    "profit3_f = profit_vp11_f + profit_vo11_f*5 + profit_vo12_f - cout_an - assurance_f - entretien_f\n",
    "profit3_e = profit_vp11_f + profit_vo11_f*5 + profit_vo12_f - cout_an - assurance_e - entretien_e\n",
    "print(\"Le profit pour la: \")\n",
    "print(\"Camionnette :\", profit3_c, \"€\")\n",
    "print(\"Fourgonnette :\", profit3_f, \"€\")\n",
    "print(\"Estafette :\", profit3_e, \"€\")"
   ]
  },
  {
   "cell_type": "markdown",
   "metadata": {},
   "source": [
    "\n",
    "Après ces 6 mois, Il faut vendre tous ces 625 pintades parce qu'ils ne produire rien.\n",
    "\n",
    "Donc nous pouvons déduire le meilleur résolution:\n",
    "\n",
    "Nous ne vendons que les oeufs dans ces 6 mois. Dans le dernier mois, nous gardons 900 oeufs et faire l'inbucation artificielle. Et nous vendons tous les pintades.\n"
   ]
  },
  {
   "cell_type": "code",
   "execution_count": 82,
   "metadata": {},
   "outputs": [
    {
     "name": "stdout",
     "output_type": "stream",
     "text": [
      "profit d'oeufs: 23556.0\n",
      "profit des pintades: 6981.250000000001\n",
      "cost d'inbuction: 1800\n"
     ]
    }
   ],
   "source": [
    "egg_profit = (egg_chaque_mois * 6 - 900)  * (cf_boite_oeuf-cout_boite_oeuf)/6 \n",
    "pintade_profit = pintade_totale * (cf_pintada - cout_abattage_pintade)\n",
    "cost_inbuction = 900*2\n",
    "print(\"profit d'oeufs:\", egg_profit)\n",
    "print(\"profit des pintades:\", pintade_profit)\n",
    "print(\"cost d'inbuction:\", cost_inbuction)"
   ]
  },
  {
   "cell_type": "markdown",
   "metadata": {},
   "source": [
    "Choix de voiture:\n",
    "Pour le premier 5 mois, nous transportons 15008 oeufs chaqun mois, c'est à dire que 2502 boite d'oeufs chaque mois.Tous ces 3 voitures peuvent le transporter une fois.\n",
    "\n",
    "Pour le dernier mois, nous transportons 625 pintades et 14108 oeufs(2351 boite). \n",
    "\n",
    "Pour le cammionette, il faut 8 trajets.\n",
    "Pour le fourgonnette, il faut 7 trajets.\n",
    "Pour l'estafette, il faut 6 trajets.\n",
    "\n",
    "Nous allons comparer les costs."
   ]
  },
  {
   "cell_type": "code",
   "execution_count": 83,
   "metadata": {},
   "outputs": [
    {
     "name": "stdout",
     "output_type": "stream",
     "text": [
      "cost de cammionette: 36818.88888888889\n",
      "cost de fourgonnette: 42490.0\n",
      "cost d'estafette: 38207.27272727273\n"
     ]
    }
   ],
   "source": [
    "cost_transport_c = essence_c * 8 + prix_camionnette + assurance_c + entretien_c\n",
    "cost_transport_f = essence_f * 7 + prix_fourgonnette + assurance_f + entretien_f\n",
    "cost_transport_e = essence_e * 6 + prix_estafette + assurance_e + entretien_e\n",
    "print(\"cost de cammionette:\", cost_transport_c)\n",
    "print(\"cost de fourgonnette:\", cost_transport_f)\n",
    "print(\"cost d'estafette:\", cost_transport_e)"
   ]
  },
  {
   "cell_type": "markdown",
   "metadata": {},
   "source": [
    "Selon le résultats précédent, nous devons choisir une cammionette ou un estafette. En tenant compte d'une éventuelle expansion de la ferme à l'avenir, nous choissions un estafette."
   ]
  },
  {
   "cell_type": "markdown",
   "metadata": {},
   "source": [
    "Nous pouvons déduire le profit jusqu'à la fin de troisième année."
   ]
  },
  {
   "cell_type": "code",
   "execution_count": 84,
   "metadata": {},
   "outputs": [
    {
     "name": "stdout",
     "output_type": "stream",
     "text": [
      "Profit jusqu'à la fin de trosième année: -30389.332727272726\n"
     ]
    }
   ],
   "source": [
    "Profit_totale = egg_profit + pintade_profit + cf_vp11 - cout_vp11 - cost_transport_e - cout_an*3 - cost_inbuction\n",
    "print(\"Profit jusqu'à la fin de trosième année:\",Profit_totale)"
   ]
  }
 ],
 "metadata": {
  "kernelspec": {
   "display_name": "Python 3",
   "language": "python",
   "name": "python3"
  },
  "language_info": {
   "codemirror_mode": {
    "name": "ipython",
    "version": 3
   },
   "file_extension": ".py",
   "mimetype": "text/x-python",
   "name": "python",
   "nbconvert_exporter": "python",
   "pygments_lexer": "ipython3",
   "version": "3.9.6"
  }
 },
 "nbformat": 4,
 "nbformat_minor": 2
}
