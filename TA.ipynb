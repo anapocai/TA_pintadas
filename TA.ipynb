{
 "cells": [
  {
   "cell_type": "markdown",
   "metadata": {},
   "source": [
    "TA-Pintade <br/>\n",
    "Ana Maria Renno Pocai <br/>\n",
    "Xinyi WANG"
   ]
  },
  {
   "cell_type": "markdown",
   "metadata": {},
   "source": [
    "<font color = blue>\n",
    "Objectif de ce travail:\n",
    "</font>\n",
    "\n",
    "Selon le vidéo proposé sur pintade, nous avons cherché les informations et modelisé le problème (comment gagner le plus de profit par le couple de pintade).\n"
   ]
  },
  {
   "cell_type": "markdown",
   "metadata": {},
   "source": [
    "<font color = blue>\n",
    "Modélisation du problème: <br/>\n",
    "</font>\n",
    "\n",
    "<font color = green>\n",
    "Partie 1: Calculer les nombre des pintades maintenant <br/>\n",
    "</font>\n",
    "\n",
    "Ces deux monsieurs ont un couple de pintades (il y a 2 ans). <br/>\n",
    "Les 6 premiers mois, les pintades ne produisent rien (Suppose que c’est dans l’automne et l’hiver). <br/>\n",
    "On suppose que le côut par pintade par mois est 5 euros.<br/>\n",
    "Au septième mois, la pintade femelle commence à produire des œufs(Pendant 6 mois chaque année, au printemps et en été).<br/>\n",
    "Elle arrête de produire des œufs jusqu'à  à l'âge d'un an et demi. Une pintade peut produire entre 50 et 80 œufs par an. \n",
    ".<br/>\n",
    "Étant donné que les deux messieurs n'ont rien fait avec le couple, comme cela a été dit dans la vidéo, les pintades se reproduisent frénétiquement. Pour cet exercice, nous allons considérer qu'elles produisent 50 œufs par an. <br/>\n",
    "\n",
    "\n",
    "La taux d'éclosion des pintades est d'environ 80 %.\n",
    "\n",
    "La proportion de femelles pour mâles chez la pintade est généralement de 10 femelles pour 1 mâle.\n",
    "\n",
    "En tenant compte de ces informations, nous pouvons estimer la quantité de pintades après 2 ans."
   ]
  },
  {
   "cell_type": "code",
   "execution_count": 13,
   "metadata": {},
   "outputs": [],
   "source": [
    "oeuf_ans = 50\n",
    "eclosion = 0.8\n",
    "femmes = 10/11"
   ]
  },
  {
   "cell_type": "markdown",
   "metadata": {},
   "source": [
    "Première année:"
   ]
  },
  {
   "cell_type": "code",
   "execution_count": 14,
   "metadata": {},
   "outputs": [
    {
     "name": "stdout",
     "output_type": "stream",
     "text": [
      "Nombre de pintades:  40\n",
      "Nombre de femelles:  36\n"
     ]
    }
   ],
   "source": [
    "pintadas = int(oeuf_ans*eclosion)\n",
    "pintadas_femmes = int(pintadas*femmes)\n",
    "print(\"Nombre de pintades: \", pintadas)\n",
    "print(\"Nombre de femelles: \", pintadas_femmes)"
   ]
  },
  {
   "cell_type": "markdown",
   "metadata": {},
   "source": [
    "Deuxième année:"
   ]
  },
  {
   "cell_type": "code",
   "execution_count": 15,
   "metadata": {},
   "outputs": [
    {
     "name": "stdout",
     "output_type": "stream",
     "text": [
      "Nombre de pintades:  1440\n",
      "Nombre de femelles:  1309\n"
     ]
    }
   ],
   "source": [
    "pintadas = int(pintadas_femmes*oeuf_ans*eclosion)\n",
    "pintadas_femmes = int(pintadas*femmes)\n",
    "print(\"Nombre de pintades: \", pintadas)\n",
    "print(\"Nombre de femelles: \", pintadas_femmes)"
   ]
  },
  {
   "cell_type": "markdown",
   "metadata": {},
   "source": [
    "<font color = green>\n",
    "Partie 2: Ce que nous pouvons faire maintenant sur les 220 pintades. <br/>\n",
    "</font>\n",
    "\n",
    "\n",
    "\n",
    "\n",
    "\n",
    "\n",
    "\n",
    "\n",
    "Choix de L'incubation\n",
    "\n",
    "Manière 1: on laisse la pintade couver naturellement.\n",
    "La pintade pond généralement des œufs de manière continue jusqu'à accumuler un certain nombre d'œufs (environ 12 à 15) avant de commencer à couver. Ça prend presque 1.5 semaines.\n",
    "Un mois plus tard, les poussins éclosent.Lorsqu'une pintade commence à couver, elle arrête de pondre des œufs.\n",
    "Elle peut produire environ 52-65 pintades.\n",
    "\n",
    "Manière 2: L'incubation est faite artificiellement\n",
    "Si l'incubation est faite artificiellement, la pintade peut continuer à pondre des œufs. Dans ce cas, on peut estimer qu’une pintade produit 192-240 pintades. Mais il y a le coût de l’incubation artificielle(7 euros par pintade: 1344 - 1680 euros)."
   ]
  },
  {
   "cell_type": "markdown",
   "metadata": {},
   "source": [
    "<font color = green>\n",
    "Partie 3: Prix <br/> \n",
    "\n",
    "oeufs \n",
    "\n",
    "viande\n",
    "</font>"
   ]
  }
 ],
 "metadata": {
  "kernelspec": {
   "display_name": "Python 3",
   "language": "python",
   "name": "python3"
  },
  "language_info": {
   "codemirror_mode": {
    "name": "ipython",
    "version": 3
   },
   "file_extension": ".py",
   "mimetype": "text/x-python",
   "name": "python",
   "nbconvert_exporter": "python",
   "pygments_lexer": "ipython3",
   "version": "3.9.6"
  }
 },
 "nbformat": 4,
 "nbformat_minor": 2
}
