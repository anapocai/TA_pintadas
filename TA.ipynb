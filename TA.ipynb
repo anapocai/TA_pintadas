{
 "cells": [
  {
   "cell_type": "markdown",
   "metadata": {},
   "source": [
    "TA-Pintade <br/>\n",
    "Ana Maria Renno Pocai <br/>\n",
    "Xinyi WANG"
   ]
  },
  {
   "cell_type": "markdown",
   "metadata": {},
   "source": [
    "<font color = blue>\n",
    "Objectif de ce travail:\n",
    "</font>\n",
    "\n",
    "Selon le vidéo proposé sur pintade, nous avons cherché les informations et modelisé le problème (comment gagner le plus de profit par le couple de pintade).\n"
   ]
  },
  {
   "cell_type": "markdown",
   "metadata": {},
   "source": [
    "<font color = blue>\n",
    "Modélisation du problème: <br/>\n",
    "</font>\n",
    "\n",
    "<font color = green>\n",
    "Partie 1: Calculer les nombre des pintades maintenant <br/>\n",
    "</font>\n",
    "\n",
    "Ces deux monsieurs ont un couple de pintades (il y a 2 ans). <br/>\n",
    "Les 6 premiers mois, les pintades ne produisent rien (Suppose que c’est dans l’automne et l’hiver). <br/>\n",
    "On suppose que le côut par pintade par mois est 5 euros.<br/>\n",
    "Au septième mois, la pintade femelle commence à produire des œufs(Pendant 6 mois chaque année, au printemps et en été).<br/>\n",
    "Elle arrête de produire des œufs jusqu'à 2 ans.<br/>\n",
    "En vue que les deux monsieur n'ont fait rien sur le couple, ils ne produisent que 20 pintades dans premier an. <br/>\n",
    "En deuxième an, ils ont eu 22 pintades (11 male et 11 femelle), donc nous pouvons déduire que il ont 11*20=220 pintades maintenant (110 male et 110 femelle).<br/>"
   ]
  },
  {
   "cell_type": "markdown",
   "metadata": {},
   "source": [
    "<font color = green>\n",
    "Partie 2: Ce que nous pouvons faire maintenant sur les 220 pintades. <br/>\n",
    "</font>\n",
    "\n",
    "\n",
    "\n",
    "\n",
    "\n",
    "\n",
    "\n",
    "\n",
    "Choix de L'incubation\n",
    "\n",
    "Manière 1: on laisse la pintade couver naturellement.\n",
    "La pintade pond généralement des œufs de manière continue jusqu'à accumuler un certain nombre d'œufs (environ 12 à 15) avant de commencer à couver. Ça prend presque 1.5 semaines.\n",
    "Un mois plus tard, les poussins éclosent.Lorsqu'une pintade commence à couver, elle arrête de pondre des œufs.\n",
    "Elle peut produire environ 12*24/5.5-15*24/5.5 œufs.\n",
    "\n",
    "Manière 2: L'incubation est faite artificiellement\n",
    "Si l'incubation est faite artificiellement, la pintade peut continuer à pondre des œufs. Dans ce cas, on peut estimer qu’une pintade produit 12*24/1.5-15 *24/1.5 œufs. Mais il y a le coût de l’incubation artificielle(7 euros par pintade)."
   ]
  }
 ],
 "metadata": {
  "kernelspec": {
   "display_name": "Python 3",
   "language": "python",
   "name": "python3"
  },
  "language_info": {
   "codemirror_mode": {
    "name": "ipython",
    "version": 3
   },
   "file_extension": ".py",
   "mimetype": "text/x-python",
   "name": "python",
   "nbconvert_exporter": "python",
   "pygments_lexer": "ipython3",
   "version": "3.11.9"
  }
 },
 "nbformat": 4,
 "nbformat_minor": 2
}
