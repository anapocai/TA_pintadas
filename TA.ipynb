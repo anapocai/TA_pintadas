{
 "cells": [
  {
   "cell_type": "markdown",
   "metadata": {},
   "source": [
    "TA-Pintade <br/>\n",
    "Ana Maria Renno Pocai <br/>\n",
    "Xinyi WANG"
   ]
  },
  {
   "cell_type": "markdown",
   "metadata": {},
   "source": [
    "<font color = blue>\n",
    "Objectif de ce travail:\n",
    "</font>\n",
    "\n",
    "Selon le vidéo proposé sur pintade, nous avons cherché les informations et modelisé le problème (comment gagner le plus de profit par le couple de pintade).\n"
   ]
  },
  {
   "cell_type": "markdown",
   "metadata": {},
   "source": [
    "<font color = blue>\n",
    "Modélisation du problème: <br/>\n",
    "</font>\n",
    "\n",
    "<font color = green>\n",
    "Partie 1: Calculer les nombre des pintades maintenant <br/>\n",
    "</font>\n",
    "\n",
    "Ces deux monsieurs ont un couple de pintades (il y a 2 ans). <br/>\n",
    "Les 6 premiers mois, les pintades ne produisent rien (Suppose que c’est dans l’automne et l’hiver). <br/>\n",
    "On suppose que le côut par pintade par mois est 5 euros.<br/>\n",
    "Au septième mois, la pintade femelle commence à produire des œufs(Pendant 6 mois chaque année, au printemps et en été).<br/>\n",
    "Elle arrête de produire des œufs jusqu'à  à l'âge d'un an et demi. Une pintade peut produire entre 50 et 80 œufs par an. <br/>\n",
    "Étant donné que les deux messieurs n'ont rien fait avec le couple, comme cela a été dit dans la vidéo, les pintades se reproduisent frénétiquement. Pour cet exercice, nous allons considérer qu'elles produisent 50 œufs par an, en tenant compte des facteurs externes qui pourraient diminuer le nombre de pintades. <br/>\n",
    "La taux d'éclosion des pintades est d'environ 80 %.<br/>\n",
    "En tenant compte de ces informations, nous pouvons estimer la quantité de pintades après 2 ans.<br/>"
   ]
  },
  {
   "cell_type": "code",
   "execution_count": 1,
   "metadata": {},
   "outputs": [],
   "source": [
    "oeuf_ans = 50\n",
    "eclosion = 0.8\n",
    "femmes = 1/2\n",
    "cout_pintada = 5 # par mois "
   ]
  },
  {
   "cell_type": "markdown",
   "metadata": {},
   "source": [
    "#### Première année: \n",
    "\n",
    "En considérant que la pintade ne se reproduit que pendant 6 mois de l'année et qu'elle met 1 mois à éclore, faisons une moyenne, en supposant qu'il naîtra 8 nouvelles pintades chaque mois après le premier mois d'incubation, afin de calculer le coût des pintades pendant cette période.\n",
    "\n",
    "Pour faciliter le calcul, considérons le cas idéal où l'agriculteur a acheté les pintades 6 mois avant leur période de reproduction. Donc, au cours des 7 premiers mois, nous n'aurons que le coût de 2 pintades."
   ]
  },
  {
   "cell_type": "code",
   "execution_count": 21,
   "metadata": {},
   "outputs": [
    {
     "name": "stdout",
     "output_type": "stream",
     "text": [
      "Nombre de pintades:  42\n",
      "Nombre de femelles:  21\n",
      "Coût des pintades:  720\n"
     ]
    }
   ],
   "source": [
    "pintadas_1 = int(oeuf_ans*eclosion) + 2\n",
    "pintadas_femmes_1 = int(pintadas_1*femmes) \n",
    "p = 2 \n",
    "cout_pintadas_1 = p*5*7 \n",
    "for i in range(5):\n",
    "    p += 8\n",
    "    cout_pintadas_1 += p*5\n",
    "print(\"Nombre de pintades: \", pintadas_1)\n",
    "print(\"Nombre de femelles: \", pintadas_femmes_1)\n",
    "print(\"Coût des pintades: \", cout_pintadas_1)"
   ]
  },
  {
   "cell_type": "markdown",
   "metadata": {},
   "source": [
    "#### Deuxième année:"
   ]
  },
  {
   "cell_type": "code",
   "execution_count": 27,
   "metadata": {},
   "outputs": [
    {
     "name": "stdout",
     "output_type": "stream",
     "text": [
      "Nombre de pintades:  882\n",
      "Nombre de femelles:  441\n",
      "Coût des pintades:  15120\n"
     ]
    }
   ],
   "source": [
    "p = pintadas_1\n",
    "cout_pintadas_2 = p*5*7 \n",
    "for i in range(5):\n",
    "    p += 8*pintadas_femmes_1\n",
    "    cout_pintadas_2 += p*5\n",
    "pintadas_2 = int(pintadas_femmes_1*oeuf_ans*eclosion) + pintadas_1\n",
    "pintadas_femmes_2 = int(pintadas_2*femmes)\n",
    "print(\"Nombre de pintades: \", pintadas_2)\n",
    "print(\"Nombre de femelles: \", pintadas_femmes_2)\n",
    "print(\"Coût des pintades: \", cout_pintadas_2)"
   ]
  },
  {
   "cell_type": "markdown",
   "metadata": {},
   "source": [
    "<font color = green>\n",
    "Partie 2: Ce que nous pouvons faire maintenant sur les 220 pintades. <br/>\n",
    "</font>\n",
    "\n",
    "#### Choix de L'incubation\n",
    "\n",
    "Manière 1: on laisse la pintade couver naturellement.\n",
    "La pintade pond généralement des œufs de manière continue jusqu'à accumuler un certain nombre d'œufs (environ 12 à 15) avant de commencer à couver. Ça prend presque 1.5 semaines.\n",
    "Un mois plus tard, les poussins éclosent.Lorsqu'une pintade commence à couver, elle arrête de pondre des œufs.\n",
    "Elle peut produire environ 52-65 pintades.\n",
    "\n",
    "Manière 2: L'incubation est faite artificiellement\n",
    "Si l'incubation est faite artificiellement, la pintade peut continuer à pondre des œufs. Dans ce cas, on peut estimer qu’une pintade produit 192-240 pintades. Mais il y a le coût de l’incubation artificielle(7 euros par pintade: 1344 - 1680 euros)."
   ]
  },
  {
   "cell_type": "code",
   "execution_count": 28,
   "metadata": {},
   "outputs": [
    {
     "name": "stdout",
     "output_type": "stream",
     "text": [
      "Coût de incubation par pintada:  1344\n"
     ]
    }
   ],
   "source": [
    "cout_incubation = 7*192 # Une pintade.\n",
    "print(\"Coût de incubation par pintada: \",cout_incubation  )"
   ]
  },
  {
   "cell_type": "markdown",
   "metadata": {},
   "source": [
    "<font color = green>\n",
    "Partie 3: Prix <br/> \n",
    "</font>\n",
    "\n",
    "#### Prix de vente des œufs de pintade: \n",
    "\n",
    "Le prix de vente de chaque œuf de pintade est basé sur le fait que 6 œufs se vendent pour 7 euros. \n",
    "\n",
    "Cela signifie que le prix par œuf est d'environ :\n",
    "\n",
    "$$\n",
    "\\text{Prix par œuf} = \\frac{7 \\text{ euros}}{6 \\text{ œufs}} \\approx 1,17 \\text{ euros}\n",
    "$$\n",
    "\n",
    "#### Calcul du Coût de Production d'une Boîte d'Oeufs\n",
    "\n",
    "Pour déterminer le coût de production d'une boîte d'œufs (qui contient 6 œufs), nous avons pris en compte le coût de production individuel de chaque œuf. Voici comment nous avons calculé cela :\n",
    "\n",
    "1. **Coût de production par œuf** : Nous avons mentionné que le coût de production d'un œuf est de **0,3 euros**.\n",
    "\n",
    "2. **Coût total par boîte d'œufs** : Pour calculer le coût total d'une boîte d'œufs, nous multiplions le coût par œuf par le nombre d'œufs dans la boîte.\n",
    "\n",
    "$$\n",
    "\\text{Coût par boîte de 6 œufs} = \\text{Coût par œuf} \\times 6\n",
    "$$\n",
    "\n",
    "En remplaçant les valeurs :\n",
    "\n",
    "$$\n",
    "\\text{Coût par boîte de 6 œufs} = 0,3 \\, \\text{€} \\times 6 \\approx 1,8 \\, \\text{€}\n",
    "$$\n",
    "\n",
    "##### Résultat Final\n",
    "\n",
    "Ainsi, le coût de production pour une boîte d'œufs (avec 6 œufs) serait **environ 1,80 euros**.\n",
    "\n",
    "#### Calcul du Prix de Vente de la Viande de Pintade\n",
    "\n",
    "Pour déterminer le prix de vente de la viande de pintade que nous allons proposer, voici les étapes que nous avons suivies :\n",
    "\n",
    "##### 1. Déterminer le poids de la viande après l'abattage\n",
    "\n",
    "La pintade entière a un poids moyen d'environ 1,65 kg. Après l'abattage, nous pouvons obtenir environ 70 % du poids total en viande, en tenant compte des viscères et d'autres parties non comestibles.\n",
    "\n",
    "$$\n",
    "\\text{Poids de la viande} = \\text{Poids total} \\times 0,70 = 1,65 \\, \\text{kg} \\times 0,70 \\approx 1,155 \\, \\text{kg}\n",
    "$$\n",
    "\n",
    "##### 2. Prix par kilogramme de viande\n",
    "\n",
    "Si le prix de vente au consommateur final est de 14,00 €/kg pour la pintade entière, nous supposons que le prix par kilogramme de viande est dans la même gamme.\n",
    "\n",
    "##### 3. Calcul du prix de vente de la viande\n",
    "\n",
    "Le prix de vente de la viande serait alors :\n",
    "\n",
    "$$\n",
    "\\text{Prix de vente de la viande} = \\text{Prix par kg} \\times \\text{Poids de la viande}\n",
    "$$\n",
    "\n",
    "En remplaçant :\n",
    "\n",
    "$$\n",
    "\\text{Prix de vente de la viande} = 14,00 \\, \\text{€/kg} \\times 1,155 \\, \\text{kg} \\approx 16,17 \\, \\text{€}\n",
    "$$\n",
    "\n",
    "##### Résumé\n",
    "\n",
    "Par conséquent, nous pourrions vendre la viande de pintade pour environ **16,17 euros**.\n",
    "\n",
    "#### Abattage de la Pintade\n",
    "\n",
    "Nous avons décidé d'abattre la pintade que nous avons élevée. Pour cela, voici le coût que nous devons considérer :\n",
    "\n",
    "1. **Coût de l'abattage** :  \n",
    "   Le coût de l'abattage par pintade est d'environ **5,00 €**.\n",
    "\n",
    "##### Conclusion\n",
    "\n",
    "Ainsi, le coût total pour abattre une pintade serait d'environ **5,00 euros**.\n"
   ]
  },
  {
   "cell_type": "code",
   "execution_count": 30,
   "metadata": {},
   "outputs": [],
   "source": [
    "cf_oeuf = 1.17 \n",
    "cout_boite_oeuf = 1.8\n",
    "cf_pintada = 16.17\n",
    "cout_abattage_pintade = 5"
   ]
  },
  {
   "cell_type": "markdown",
   "metadata": {},
   "source": [
    "<font color = green>\n",
    "Partie 4 : Coût du transport <br/> \n",
    "</font>\n",
    "\n",
    "Nous devons prendre en compte le coût d'achat de chacun des moyens de transport mentionnés dans la vidéo. Ensuite, nous devrons voir, en fonction de chacun d'eux, combien d'œufs ou de viande de pintade nous pouvons transporter et quel serait le coût de ce transport. Nous allons supposer que les personnes ont une ferme près de Marseille, puisque le vieux port a été mentionné dans la vidéo."
   ]
  }
 ],
 "metadata": {
  "kernelspec": {
   "display_name": "Python 3",
   "language": "python",
   "name": "python3"
  },
  "language_info": {
   "codemirror_mode": {
    "name": "ipython",
    "version": 3
   },
   "file_extension": ".py",
   "mimetype": "text/x-python",
   "name": "python",
   "nbconvert_exporter": "python",
   "pygments_lexer": "ipython3",
   "version": "3.9.6"
  }
 },
 "nbformat": 4,
 "nbformat_minor": 2
}
